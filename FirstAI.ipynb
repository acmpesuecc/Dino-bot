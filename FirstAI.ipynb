{
 "cells": [
  {
   "cell_type": "code",
   "execution_count": 2,
   "metadata": {},
   "outputs": [
    {
     "name": "stdout",
     "output_type": "stream",
     "text": [
      "Collecting pytesseract\n",
      "  Using cached pytesseract-0.3.10-py3-none-any.whl (14 kB)\n",
      "Requirement already satisfied: packaging>=21.3 in c:\\users\\arya umesh\\appdata\\local\\programs\\python\\python310\\lib\\site-packages (from pytesseract) (21.3)\n",
      "Requirement already satisfied: Pillow>=8.0.0 in c:\\users\\arya umesh\\appdata\\local\\programs\\python\\python310\\lib\\site-packages (from pytesseract) (9.1.1)\n",
      "Requirement already satisfied: pyparsing!=3.0.5,>=2.0.2 in c:\\users\\arya umesh\\appdata\\local\\programs\\python\\python310\\lib\\site-packages (from packaging>=21.3->pytesseract) (3.0.9)\n",
      "Installing collected packages: pytesseract\n",
      "Successfully installed pytesseract-0.3.10\n",
      "Note: you may need to restart the kernel to use updated packages.\n"
     ]
    },
    {
     "name": "stderr",
     "output_type": "stream",
     "text": [
      "  WARNING: The script pytesseract.exe is installed in 'C:\\Users\\Arya Umesh\\AppData\\Local\\Programs\\Python\\Python310\\Scripts' which is not on PATH.\n",
      "  Consider adding this directory to PATH or, if you prefer to suppress this warning, use --no-warn-script-location.\n",
      "WARNING: There was an error checking the latest version of pip.\n"
     ]
    },
    {
     "name": "stdout",
     "output_type": "stream",
     "text": [
      "Collecting swig\n",
      "  Using cached swig-4.1.1-py2.py3-none-win_amd64.whl (2.5 MB)\n",
      "Installing collected packages: swig\n",
      "Successfully installed swig-4.1.1\n",
      "Note: you may need to restart the kernel to use updated packages.\n"
     ]
    },
    {
     "name": "stderr",
     "output_type": "stream",
     "text": [
      "  WARNING: The script swig.exe is installed in 'C:\\Users\\Arya Umesh\\AppData\\Local\\Programs\\Python\\Python310\\Scripts' which is not on PATH.\n",
      "  Consider adding this directory to PATH or, if you prefer to suppress this warning, use --no-warn-script-location.\n",
      "WARNING: There was an error checking the latest version of pip.\n"
     ]
    },
    {
     "name": "stdout",
     "output_type": "stream",
     "text": [
      "Note: you may need to restart the kernel to use updated packages.\n"
     ]
    },
    {
     "name": "stderr",
     "output_type": "stream",
     "text": [
      "ERROR: Could not find a version that satisfies the requirement python-opencv (from versions: none)\n",
      "ERROR: No matching distribution found for python-opencv\n",
      "WARNING: There was an error checking the latest version of pip.\n"
     ]
    },
    {
     "name": "stdout",
     "output_type": "stream",
     "text": [
      "Collecting gymnasium[all]\n",
      "  Downloading gymnasium-0.29.1-py3-none-any.whl (953 kB)\n",
      "     ------------------------------------ 953.9/953.9 kB 564.4 kB/s eta 0:00:00\n",
      "Collecting cloudpickle>=1.2.0\n",
      "  Downloading cloudpickle-2.2.1-py3-none-any.whl (25 kB)\n",
      "Collecting typing-extensions>=4.3.0\n",
      "  Downloading typing_extensions-4.8.0-py3-none-any.whl (31 kB)\n",
      "Requirement already satisfied: numpy>=1.21.0 in c:\\users\\arya umesh\\appdata\\local\\programs\\python\\python310\\lib\\site-packages (from gymnasium[all]) (1.22.4)\n",
      "Collecting farama-notifications>=0.0.1\n",
      "  Downloading Farama_Notifications-0.0.4-py3-none-any.whl (2.5 kB)\n",
      "Collecting pygame>=2.1.3\n",
      "  Downloading pygame-2.5.2-cp310-cp310-win_amd64.whl (10.8 MB)\n",
      "     ---------------------------------------- 10.8/10.8 MB 1.4 MB/s eta 0:00:00\n",
      "Collecting jax>=0.4.0\n",
      "  Downloading jax-0.4.18-py3-none-any.whl (1.7 MB)\n",
      "     ---------------------------------------- 1.7/1.7 MB 1.2 MB/s eta 0:00:00\n",
      "Requirement already satisfied: matplotlib>=3.0 in c:\\users\\arya umesh\\appdata\\local\\programs\\python\\python310\\lib\\site-packages (from gymnasium[all]) (3.5.2)\n",
      "Collecting imageio>=2.14.1\n",
      "  Downloading imageio-2.31.5-py3-none-any.whl (313 kB)\n",
      "     -------------------------------------- 313.2/313.2 kB 1.1 MB/s eta 0:00:00\n",
      "Collecting lz4>=3.1.0\n",
      "  Downloading lz4-4.3.2-cp310-cp310-win_amd64.whl (99 kB)\n",
      "     ---------------------------------------- 99.8/99.8 kB 1.1 MB/s eta 0:00:00\n",
      "Collecting box2d-py==2.3.5\n",
      "  Downloading box2d-py-2.3.5.tar.gz (374 kB)\n",
      "     -------------------------------------- 374.4/374.4 kB 1.9 MB/s eta 0:00:00\n",
      "  Preparing metadata (setup.py): started\n",
      "  Preparing metadata (setup.py): finished with status 'done'\n",
      "Collecting mujoco>=2.3.3\n",
      "  Downloading mujoco-2.3.7-cp310-cp310-win_amd64.whl (3.3 MB)\n",
      "     ---------------------------------------- 3.3/3.3 MB 1.1 MB/s eta 0:00:00\n",
      "Requirement already satisfied: swig==4.* in c:\\users\\arya umesh\\appdata\\local\\programs\\python\\python310\\lib\\site-packages (from gymnasium[all]) (4.1.1)\n",
      "Collecting moviepy>=1.0.0\n",
      "  Downloading moviepy-1.0.3.tar.gz (388 kB)\n",
      "     -------------------------------------- 388.3/388.3 kB 1.2 MB/s eta 0:00:00\n",
      "  Preparing metadata (setup.py): started\n",
      "  Preparing metadata (setup.py): finished with status 'done'\n",
      "Collecting jaxlib>=0.4.0\n",
      "  Downloading jaxlib-0.4.18-cp310-cp310-win_amd64.whl (46.6 MB)\n",
      "     ---------------------------------------- 46.6/46.6 MB 1.9 MB/s eta 0:00:00\n",
      "Requirement already satisfied: torch>=1.0.0 in c:\\users\\arya umesh\\appdata\\local\\programs\\python\\python310\\lib\\site-packages (from gymnasium[all]) (2.0.0)\n",
      "Requirement already satisfied: opencv-python>=3.0 in c:\\users\\arya umesh\\appdata\\local\\programs\\python\\python310\\lib\\site-packages (from gymnasium[all]) (4.7.0.68)\n",
      "Collecting shimmy[atari]<1.0,>=0.1.0\n",
      "  Using cached Shimmy-0.2.1-py3-none-any.whl (25 kB)\n",
      "Collecting mujoco-py<2.2,>=2.1\n",
      "  Using cached mujoco_py-2.1.2.14-py3-none-any.whl (2.4 MB)\n",
      "Collecting cython<3\n",
      "  Downloading Cython-0.29.36-py2.py3-none-any.whl (988 kB)\n",
      "     -------------------------------------- 988.3/988.3 kB 1.2 MB/s eta 0:00:00\n",
      "Requirement already satisfied: pillow>=8.3.2 in c:\\users\\arya umesh\\appdata\\local\\programs\\python\\python310\\lib\\site-packages (from imageio>=2.14.1->gymnasium[all]) (9.1.1)\n",
      "Requirement already satisfied: scipy>=1.7 in c:\\users\\arya umesh\\appdata\\local\\programs\\python\\python310\\lib\\site-packages (from jax>=0.4.0->gymnasium[all]) (1.8.1)\n",
      "Requirement already satisfied: opt-einsum in c:\\users\\arya umesh\\appdata\\local\\programs\\python\\python310\\lib\\site-packages (from jax>=0.4.0->gymnasium[all]) (3.3.0)\n",
      "Collecting ml-dtypes>=0.2.0\n",
      "  Downloading ml_dtypes-0.3.1-cp310-cp310-win_amd64.whl (126 kB)\n",
      "     -------------------------------------- 126.9/126.9 kB 1.2 MB/s eta 0:00:00\n",
      "Requirement already satisfied: kiwisolver>=1.0.1 in c:\\users\\arya umesh\\appdata\\local\\programs\\python\\python310\\lib\\site-packages (from matplotlib>=3.0->gymnasium[all]) (1.4.2)\n",
      "Requirement already satisfied: cycler>=0.10 in c:\\users\\arya umesh\\appdata\\local\\programs\\python\\python310\\lib\\site-packages (from matplotlib>=3.0->gymnasium[all]) (0.11.0)\n",
      "Requirement already satisfied: python-dateutil>=2.7 in c:\\users\\arya umesh\\appdata\\local\\programs\\python\\python310\\lib\\site-packages (from matplotlib>=3.0->gymnasium[all]) (2.8.2)\n",
      "Requirement already satisfied: packaging>=20.0 in c:\\users\\arya umesh\\appdata\\local\\programs\\python\\python310\\lib\\site-packages (from matplotlib>=3.0->gymnasium[all]) (21.3)\n",
      "Requirement already satisfied: fonttools>=4.22.0 in c:\\users\\arya umesh\\appdata\\local\\programs\\python\\python310\\lib\\site-packages (from matplotlib>=3.0->gymnasium[all]) (4.33.3)\n",
      "Requirement already satisfied: pyparsing>=2.2.1 in c:\\users\\arya umesh\\appdata\\local\\programs\\python\\python310\\lib\\site-packages (from matplotlib>=3.0->gymnasium[all]) (3.0.9)\n",
      "Collecting decorator<5.0,>=4.0.2\n",
      "  Downloading decorator-4.4.2-py2.py3-none-any.whl (9.2 kB)\n",
      "Requirement already satisfied: tqdm<5.0,>=4.11.2 in c:\\users\\arya umesh\\appdata\\local\\programs\\python\\python310\\lib\\site-packages (from moviepy>=1.0.0->gymnasium[all]) (4.64.1)\n",
      "Requirement already satisfied: requests<3.0,>=2.8.1 in c:\\users\\arya umesh\\appdata\\local\\programs\\python\\python310\\lib\\site-packages (from moviepy>=1.0.0->gymnasium[all]) (2.27.1)\n",
      "Collecting proglog<=1.0.0\n",
      "  Downloading proglog-0.1.10-py3-none-any.whl (6.1 kB)\n",
      "Collecting imageio_ffmpeg>=0.2.0\n",
      "  Downloading imageio_ffmpeg-0.4.9-py3-none-win_amd64.whl (22.6 MB)\n",
      "     -------------------------------------- 22.6/22.6 MB 477.5 kB/s eta 0:00:00\n",
      "Collecting pyopengl\n",
      "  Downloading PyOpenGL-3.1.7-py3-none-any.whl (2.4 MB)\n",
      "     ---------------------------------------- 2.4/2.4 MB 437.6 kB/s eta 0:00:00\n",
      "Collecting glfw\n",
      "  Downloading glfw-2.6.2-py2.py27.py3.py30.py31.py32.py33.py34.py35.py36.py37.py38-none-win_amd64.whl (493 kB)\n",
      "     ------------------------------------ 493.6/493.6 kB 262.3 kB/s eta 0:00:00\n",
      "Requirement already satisfied: absl-py in c:\\users\\arya umesh\\appdata\\local\\programs\\python\\python310\\lib\\site-packages (from mujoco>=2.3.3->gymnasium[all]) (1.3.0)\n",
      "Collecting fasteners~=0.15\n",
      "  Downloading fasteners-0.19-py3-none-any.whl (18 kB)\n",
      "Requirement already satisfied: cffi>=1.10 in c:\\users\\arya umesh\\appdata\\local\\programs\\python\\python310\\lib\\site-packages (from mujoco-py<2.2,>=2.1->gymnasium[all]) (1.15.0)\n",
      "Collecting ale-py~=0.8.1\n",
      "  Downloading ale_py-0.8.1-cp310-cp310-win_amd64.whl (952 kB)\n",
      "     ------------------------------------ 952.4/952.4 kB 146.7 kB/s eta 0:00:00\n",
      "Requirement already satisfied: jinja2 in c:\\users\\arya umesh\\appdata\\local\\programs\\python\\python310\\lib\\site-packages (from torch>=1.0.0->gymnasium[all]) (3.1.2)\n",
      "Requirement already satisfied: sympy in c:\\users\\arya umesh\\appdata\\local\\programs\\python\\python310\\lib\\site-packages (from torch>=1.0.0->gymnasium[all]) (1.11.1)\n",
      "Requirement already satisfied: networkx in c:\\users\\arya umesh\\appdata\\local\\programs\\python\\python310\\lib\\site-packages (from torch>=1.0.0->gymnasium[all]) (2.8.6)\n",
      "Requirement already satisfied: filelock in c:\\users\\arya umesh\\appdata\\local\\programs\\python\\python310\\lib\\site-packages (from torch>=1.0.0->gymnasium[all]) (3.10.0)\n",
      "Collecting importlib-resources\n",
      "  Downloading importlib_resources-6.1.0-py3-none-any.whl (33 kB)\n",
      "Requirement already satisfied: pycparser in c:\\users\\arya umesh\\appdata\\local\\programs\\python\\python310\\lib\\site-packages (from cffi>=1.10->mujoco-py<2.2,>=2.1->gymnasium[all]) (2.21)\n",
      "Requirement already satisfied: setuptools in c:\\users\\arya umesh\\appdata\\local\\programs\\python\\python310\\lib\\site-packages (from imageio_ffmpeg>=0.2.0->moviepy>=1.0.0->gymnasium[all]) (58.1.0)\n",
      "Requirement already satisfied: six>=1.5 in c:\\users\\arya umesh\\appdata\\local\\programs\\python\\python310\\lib\\site-packages (from python-dateutil>=2.7->matplotlib>=3.0->gymnasium[all]) (1.16.0)\n",
      "Requirement already satisfied: certifi>=2017.4.17 in c:\\users\\arya umesh\\appdata\\local\\programs\\python\\python310\\lib\\site-packages (from requests<3.0,>=2.8.1->moviepy>=1.0.0->gymnasium[all]) (2022.5.18.1)\n",
      "Requirement already satisfied: charset-normalizer~=2.0.0 in c:\\users\\arya umesh\\appdata\\local\\programs\\python\\python310\\lib\\site-packages (from requests<3.0,>=2.8.1->moviepy>=1.0.0->gymnasium[all]) (2.0.12)\n",
      "Requirement already satisfied: idna<4,>=2.5 in c:\\users\\arya umesh\\appdata\\local\\programs\\python\\python310\\lib\\site-packages (from requests<3.0,>=2.8.1->moviepy>=1.0.0->gymnasium[all]) (2.10)\n",
      "Requirement already satisfied: urllib3<1.27,>=1.21.1 in c:\\users\\arya umesh\\appdata\\local\\programs\\python\\python310\\lib\\site-packages (from requests<3.0,>=2.8.1->moviepy>=1.0.0->gymnasium[all]) (1.26.9)\n",
      "Requirement already satisfied: colorama in c:\\users\\arya umesh\\appdata\\local\\programs\\python\\python310\\lib\\site-packages (from tqdm<5.0,>=4.11.2->moviepy>=1.0.0->gymnasium[all]) (0.4.4)\n",
      "Requirement already satisfied: MarkupSafe>=2.0 in c:\\users\\arya umesh\\appdata\\local\\programs\\python\\python310\\lib\\site-packages (from jinja2->torch>=1.0.0->gymnasium[all]) (2.1.1)\n",
      "Requirement already satisfied: mpmath>=0.19 in c:\\users\\arya umesh\\appdata\\local\\programs\\python\\python310\\lib\\site-packages (from sympy->torch>=1.0.0->gymnasium[all]) (1.3.0)\n",
      "Building wheels for collected packages: box2d-py, moviepy\n",
      "  Building wheel for box2d-py (setup.py): started\n",
      "  Building wheel for box2d-py (setup.py): finished with status 'done'\n",
      "  Created wheel for box2d-py: filename=box2d_py-2.3.5-cp310-cp310-win_amd64.whl size=487209 sha256=d814a41acf10f6dd46e30da7b19b5efba97ca9b9e6ba36b66fbac6c0e74fb71b\n",
      "  Stored in directory: c:\\users\\arya umesh\\appdata\\local\\pip\\cache\\wheels\\db\\8f\\6a\\eaaadf056fba10a98d986f6dce954e6201ba3126926fc5ad9e\n",
      "  Building wheel for moviepy (setup.py): started\n",
      "  Building wheel for moviepy (setup.py): finished with status 'done'\n",
      "  Created wheel for moviepy: filename=moviepy-1.0.3-py3-none-any.whl size=110743 sha256=e34407d194b83888210a7bb4510c719eb4e32b199904716b3c0588a0b5c8f66c\n",
      "  Stored in directory: c:\\users\\arya umesh\\appdata\\local\\pip\\cache\\wheels\\96\\32\\2d\\e10123bd88fbfc02fed53cc18c80a171d3c87479ed845fa7c1\n",
      "Successfully built box2d-py moviepy\n",
      "Installing collected packages: pyopengl, glfw, farama-notifications, box2d-py, typing-extensions, pygame, mujoco, ml-dtypes, lz4, importlib-resources, imageio_ffmpeg, imageio, fasteners, decorator, cython, cloudpickle, proglog, mujoco-py, jaxlib, jax, gymnasium, ale-py, shimmy, moviepy\n",
      "  Attempting uninstall: typing-extensions\n",
      "    Found existing installation: typing_extensions 4.2.0\n",
      "    Uninstalling typing_extensions-4.2.0:\n",
      "      Successfully uninstalled typing_extensions-4.2.0\n",
      "  Attempting uninstall: pygame\n",
      "    Found existing installation: pygame 2.1.2\n",
      "    Uninstalling pygame-2.1.2:\n",
      "      Successfully uninstalled pygame-2.1.2\n",
      "  Attempting uninstall: decorator\n",
      "    Found existing installation: decorator 5.1.1\n",
      "    Uninstalling decorator-5.1.1:\n",
      "      Successfully uninstalled decorator-5.1.1\n",
      "Successfully installed ale-py-0.8.1 box2d-py-2.3.5 cloudpickle-2.2.1 cython-0.29.36 decorator-4.4.2 farama-notifications-0.0.4 fasteners-0.19 glfw-2.6.2 gymnasium-0.29.1 imageio-2.31.5 imageio_ffmpeg-0.4.9 importlib-resources-6.1.0 jax-0.4.18 jaxlib-0.4.18 lz4-4.3.2 ml-dtypes-0.3.1 moviepy-1.0.3 mujoco-2.3.7 mujoco-py-2.1.2.14 proglog-0.1.10 pygame-2.5.2 pyopengl-3.1.7 shimmy-0.2.1 typing-extensions-4.8.0\n",
      "Note: you may need to restart the kernel to use updated packages.\n"
     ]
    },
    {
     "name": "stderr",
     "output_type": "stream",
     "text": [
      "  WARNING: The scripts imageio_download_bin.exe and imageio_remove_bin.exe are installed in 'C:\\Users\\Arya Umesh\\AppData\\Local\\Programs\\Python\\Python310\\Scripts' which is not on PATH.\n",
      "  Consider adding this directory to PATH or, if you prefer to suppress this warning, use --no-warn-script-location.\n",
      "  WARNING: The scripts cygdb.exe, cython.exe and cythonize.exe are installed in 'C:\\Users\\Arya Umesh\\AppData\\Local\\Programs\\Python\\Python310\\Scripts' which is not on PATH.\n",
      "  Consider adding this directory to PATH or, if you prefer to suppress this warning, use --no-warn-script-location.\n",
      "  WARNING: The script ale-import-roms.exe is installed in 'C:\\Users\\Arya Umesh\\AppData\\Local\\Programs\\Python\\Python310\\Scripts' which is not on PATH.\n",
      "  Consider adding this directory to PATH or, if you prefer to suppress this warning, use --no-warn-script-location.\n",
      "WARNING: There was an error checking the latest version of pip.\n"
     ]
    },
    {
     "name": "stdout",
     "output_type": "stream",
     "text": [
      "Collecting mss\n",
      "  Downloading mss-9.0.1-py3-none-any.whl (22 kB)\n",
      "Collecting pydirectinput\n",
      "  Downloading PyDirectInput-1.0.4-py3-none-any.whl (8.9 kB)\n",
      "Installing collected packages: pydirectinput, mss\n",
      "Successfully installed mss-9.0.1 pydirectinput-1.0.4\n",
      "Note: you may need to restart the kernel to use updated packages.\n"
     ]
    },
    {
     "name": "stderr",
     "output_type": "stream",
     "text": [
      "  WARNING: The script mss.exe is installed in 'C:\\Users\\Arya Umesh\\AppData\\Local\\Programs\\Python\\Python310\\Scripts' which is not on PATH.\n",
      "  Consider adding this directory to PATH or, if you prefer to suppress this warning, use --no-warn-script-location.\n",
      "WARNING: There was an error checking the latest version of pip.\n"
     ]
    },
    {
     "name": "stdout",
     "output_type": "stream",
     "text": [
      "Collecting git+https://github.com/DLR-RM/stable-baselines3\n",
      "  Cloning https://github.com/DLR-RM/stable-baselines3 to c:\\users\\arya umesh\\appdata\\local\\temp\\pip-req-build-dce0q7mp\n",
      "  Resolved https://github.com/DLR-RM/stable-baselines3 to commit 2ddf015cd9840a2a1675f5208be6eb2e86e4d045\n",
      "  Installing build dependencies: started\n",
      "  Installing build dependencies: finished with status 'done'\n",
      "  Getting requirements to build wheel: started\n",
      "  Getting requirements to build wheel: finished with status 'done'\n",
      "  Preparing metadata (pyproject.toml): started\n",
      "  Preparing metadata (pyproject.toml): finished with status 'done'\n",
      "Requirement already satisfied: pandas in c:\\users\\arya umesh\\appdata\\local\\programs\\python\\python310\\lib\\site-packages (from stable-baselines3==2.2.0a7) (1.4.2)\n",
      "Requirement already satisfied: gymnasium<0.30,>=0.28.1 in c:\\users\\arya umesh\\appdata\\local\\programs\\python\\python310\\lib\\site-packages (from stable-baselines3==2.2.0a7) (0.29.1)\n",
      "Requirement already satisfied: matplotlib in c:\\users\\arya umesh\\appdata\\local\\programs\\python\\python310\\lib\\site-packages (from stable-baselines3==2.2.0a7) (3.5.2)\n",
      "Requirement already satisfied: cloudpickle in c:\\users\\arya umesh\\appdata\\local\\programs\\python\\python310\\lib\\site-packages (from stable-baselines3==2.2.0a7) (2.2.1)\n",
      "Requirement already satisfied: torch>=1.13 in c:\\users\\arya umesh\\appdata\\local\\programs\\python\\python310\\lib\\site-packages (from stable-baselines3==2.2.0a7) (2.0.0)\n",
      "Requirement already satisfied: numpy>=1.20 in c:\\users\\arya umesh\\appdata\\local\\programs\\python\\python310\\lib\\site-packages (from stable-baselines3==2.2.0a7) (1.22.4)\n",
      "Requirement already satisfied: farama-notifications>=0.0.1 in c:\\users\\arya umesh\\appdata\\local\\programs\\python\\python310\\lib\\site-packages (from gymnasium<0.30,>=0.28.1->stable-baselines3==2.2.0a7) (0.0.4)\n",
      "Requirement already satisfied: typing-extensions>=4.3.0 in c:\\users\\arya umesh\\appdata\\local\\programs\\python\\python310\\lib\\site-packages (from gymnasium<0.30,>=0.28.1->stable-baselines3==2.2.0a7) (4.8.0)\n",
      "Requirement already satisfied: jinja2 in c:\\users\\arya umesh\\appdata\\local\\programs\\python\\python310\\lib\\site-packages (from torch>=1.13->stable-baselines3==2.2.0a7) (3.1.2)\n",
      "Requirement already satisfied: networkx in c:\\users\\arya umesh\\appdata\\local\\programs\\python\\python310\\lib\\site-packages (from torch>=1.13->stable-baselines3==2.2.0a7) (2.8.6)\n",
      "Requirement already satisfied: filelock in c:\\users\\arya umesh\\appdata\\local\\programs\\python\\python310\\lib\\site-packages (from torch>=1.13->stable-baselines3==2.2.0a7) (3.10.0)\n",
      "Requirement already satisfied: sympy in c:\\users\\arya umesh\\appdata\\local\\programs\\python\\python310\\lib\\site-packages (from torch>=1.13->stable-baselines3==2.2.0a7) (1.11.1)\n",
      "Requirement already satisfied: fonttools>=4.22.0 in c:\\users\\arya umesh\\appdata\\local\\programs\\python\\python310\\lib\\site-packages (from matplotlib->stable-baselines3==2.2.0a7) (4.33.3)\n",
      "Requirement already satisfied: cycler>=0.10 in c:\\users\\arya umesh\\appdata\\local\\programs\\python\\python310\\lib\\site-packages (from matplotlib->stable-baselines3==2.2.0a7) (0.11.0)\n",
      "Requirement already satisfied: pyparsing>=2.2.1 in c:\\users\\arya umesh\\appdata\\local\\programs\\python\\python310\\lib\\site-packages (from matplotlib->stable-baselines3==2.2.0a7) (3.0.9)\n",
      "Requirement already satisfied: python-dateutil>=2.7 in c:\\users\\arya umesh\\appdata\\local\\programs\\python\\python310\\lib\\site-packages (from matplotlib->stable-baselines3==2.2.0a7) (2.8.2)\n",
      "Requirement already satisfied: pillow>=6.2.0 in c:\\users\\arya umesh\\appdata\\local\\programs\\python\\python310\\lib\\site-packages (from matplotlib->stable-baselines3==2.2.0a7) (9.1.1)\n",
      "Requirement already satisfied: packaging>=20.0 in c:\\users\\arya umesh\\appdata\\local\\programs\\python\\python310\\lib\\site-packages (from matplotlib->stable-baselines3==2.2.0a7) (21.3)\n",
      "Requirement already satisfied: kiwisolver>=1.0.1 in c:\\users\\arya umesh\\appdata\\local\\programs\\python\\python310\\lib\\site-packages (from matplotlib->stable-baselines3==2.2.0a7) (1.4.2)\n",
      "Requirement already satisfied: pytz>=2020.1 in c:\\users\\arya umesh\\appdata\\local\\programs\\python\\python310\\lib\\site-packages (from pandas->stable-baselines3==2.2.0a7) (2022.1)\n",
      "Requirement already satisfied: six>=1.5 in c:\\users\\arya umesh\\appdata\\local\\programs\\python\\python310\\lib\\site-packages (from python-dateutil>=2.7->matplotlib->stable-baselines3==2.2.0a7) (1.16.0)\n",
      "Requirement already satisfied: MarkupSafe>=2.0 in c:\\users\\arya umesh\\appdata\\local\\programs\\python\\python310\\lib\\site-packages (from jinja2->torch>=1.13->stable-baselines3==2.2.0a7) (2.1.1)\n",
      "Requirement already satisfied: mpmath>=0.19 in c:\\users\\arya umesh\\appdata\\local\\programs\\python\\python310\\lib\\site-packages (from sympy->torch>=1.13->stable-baselines3==2.2.0a7) (1.3.0)\n",
      "Building wheels for collected packages: stable-baselines3\n",
      "  Building wheel for stable-baselines3 (pyproject.toml): started\n",
      "  Building wheel for stable-baselines3 (pyproject.toml): finished with status 'done'\n",
      "  Created wheel for stable-baselines3: filename=stable_baselines3-2.2.0a7-py3-none-any.whl size=181339 sha256=9c86c6f6d2194384b1c8614760c1a91a10a96cd2fdb2b3887c64235b0b7536dd\n",
      "  Stored in directory: C:\\Users\\Arya Umesh\\AppData\\Local\\Temp\\pip-ephem-wheel-cache-n_16hu5b\\wheels\\3b\\24\\65\\bc2794face336930a72bdbe36faf5aad6e2352b3d1dec310ca\n",
      "Successfully built stable-baselines3\n",
      "Installing collected packages: stable-baselines3\n",
      "Successfully installed stable-baselines3-2.2.0a7\n",
      "Note: you may need to restart the kernel to use updated packages.\n"
     ]
    },
    {
     "name": "stderr",
     "output_type": "stream",
     "text": [
      "  Running command git clone --filter=blob:none --quiet https://github.com/DLR-RM/stable-baselines3 'C:\\Users\\Arya Umesh\\AppData\\Local\\Temp\\pip-req-build-dce0q7mp'\n",
      "WARNING: There was an error checking the latest version of pip.\n"
     ]
    }
   ],
   "source": [
    "# %pip install pytesseract\n",
    "# %pip install swig\n",
    "# %pip install opencv-python\n",
    "# %pip install gymnasium[all] \n",
    "# %pip install mss pydirectinput\n",
    "# Install stable-baselines3 for gymnasium\n",
    "# %pip install git+https://github.com/DLR-RM/stable-baselines3\n",
    "\n",
    "# All scripts are available in the venv"
   ]
  },
  {
   "cell_type": "code",
   "execution_count": 3,
   "metadata": {},
   "outputs": [],
   "source": [
    "#Main imports\n",
    "import os\n",
    "import time\n",
    "import numpy as np\n",
    "from matplotlib import pyplot as plt\n",
    "\n",
    "# Image capture and display\n",
    "from mss import mss\n",
    "import cv2\n",
    "\n",
    "#Stable baselines imports\n",
    "import stable_baselines3\n",
    "from stable_baselines3 import DQN\n",
    "from stable_baselines3.common.callbacks import BaseCallback\n",
    "\n",
    "# Environment and I/O tools\n",
    "import pydirectinput\n",
    "import pytesseract\n",
    "pytesseract.pytesseract.tesseract_cmd = r'C:/Program Files/Tesseract-OCR/tesseract.exe' #Change installation location\n",
    "import gymnasium as gym\n",
    "from gymnasium import Env\n",
    "from gymnasium.spaces import Box, Discrete\n",
    "\n",
    "#If you are going for keras-rl2 use below\n",
    "# from keras import Sequential\n",
    "# from keras.layers import Dense, Flatten\n",
    "# from keras.optimizers import Adam\n",
    "\n",
    "\n"
   ]
  },
  {
   "cell_type": "markdown",
   "metadata": {},
   "source": [
    "# Defining Custom Environment"
   ]
  },
  {
   "cell_type": "code",
   "execution_count": null,
   "metadata": {},
   "outputs": [],
   "source": [
    "class GameEnv(Env):\n",
    "    def __init__(self):\n",
    "        super().__init__()\n",
    "        self.observation_space = Box(\n",
    "            low=0, high=255, shape=(1, 83, 120), dtype=np.uint8)\n",
    "        self.action_space = Discrete(3)\n",
    "        self.cap = mss()\n",
    "        self.agent_location = {'top': 300,\n",
    "                               'left': 0, 'width': 600, 'height': 500}\n",
    "        self.done_location = {'top': 405,\n",
    "                              'left': 630, 'width': 660, 'height': 70}\n",
    "\n",
    "    def step(self, action):\n",
    "        action_map = {\n",
    "            0: 'space',  # Jump\n",
    "            1: 'down',  # Duck\n",
    "            2: 'no_op'  # Run\n",
    "        }\n",
    "        if action != 2:\n",
    "            pydirectinput.press(action_map[action])  # type: ignore\n",
    "        over, over_cap = self.game_over()\n",
    "        next_obs = self.get_observation()\n",
    "        reward = 10\n",
    "        truncation = 0  # Limit is 99999, then score changes to zero\n",
    "        info = {}\n",
    "        return next_obs, reward, over, truncation, info\n",
    "\n",
    "    def render(self):\n",
    "        pass\n",
    "\n",
    "    def reset(self):\n",
    "        time.sleep(1)\n",
    "        pydirectinput.click(x=150, y=150)\n",
    "        pydirectinput.press('space')\n",
    "        return self.get_observation(), {}\n",
    "\n",
    "    def close(self):\n",
    "        pass\n",
    "\n",
    "    def get_observation(self):\n",
    "        # Screen capture\n",
    "        raw = np.array(self.cap.grab(self.agent_location))[:, :, :3]\n",
    "        # convert to greyscale(reduces size)\n",
    "        gray = cv2.cvtColor(raw, cv2.COLOR_BGR2GRAY)\n",
    "        # resize to match observation space\n",
    "        resize = cv2.resize(gray, (120, 83))\n",
    "        # reshape for pytorch\n",
    "        channel = np.reshape(resize, (1, 83, 120))\n",
    "        return channel\n",
    "\n",
    "    def game_over(self):\n",
    "        over_cap = np.array(self.cap.grab(self.done_location))[:, :, :3]\n",
    "        over_ind = ['GAME', 'GAHE']\n",
    "        over = False\n",
    "        res = pytesseract.image_to_string(over_cap)[:4]\n",
    "        if res in over_ind:\n",
    "            over = True\n",
    "        return over, over_cap\n"
   ]
  },
  {
   "cell_type": "code",
   "execution_count": null,
   "metadata": {},
   "outputs": [],
   "source": [
    "#Instantiating environment\n",
    "env = GameEnv()\n"
   ]
  },
  {
   "cell_type": "code",
   "execution_count": null,
   "metadata": {},
   "outputs": [],
   "source": [
    "#Check action space\n",
    "env.action_space.sample()"
   ]
  },
  {
   "cell_type": "code",
   "execution_count": null,
   "metadata": {},
   "outputs": [],
   "source": [
    "\n",
    "#Generate observation for the bot\n",
    "obs = env.get_observation()\n",
    "plt.imshow(cv2.cvtColor(obs[0], cv2.COLOR_BGR2RGB))\n"
   ]
  },
  {
   "cell_type": "markdown",
   "metadata": {},
   "source": [
    "# Training time\n"
   ]
  },
  {
   "cell_type": "code",
   "execution_count": null,
   "metadata": {},
   "outputs": [],
   "source": [
    "# tot_states = env.observation_space.shape\n",
    "# # tot_actions = 3 #Figure out later\n"
   ]
  },
  {
   "cell_type": "code",
   "execution_count": null,
   "metadata": {},
   "outputs": [],
   "source": [
    "# Create custom logger for action callback\n",
    "\n",
    "class TrainLoggingCallback(BaseCallback):\n",
    "\n",
    "    def __init__(self, check_freq, save_path, verbose=1):\n",
    "        super(TrainLoggingCallback, self).__init__(verbose)\n",
    "        self.check_freq = check_freq\n",
    "        self.save_path = save_path\n",
    "\n",
    "    def _init_callback(self):\n",
    "        if self.save_path is not None:\n",
    "            os.makedirs(self.save_path, exist_ok=True)\n",
    "\n",
    "    def _on_step(self):\n",
    "        if self.n_calls % self.check_freq == 0:\n",
    "            model_path = os.path.join(\n",
    "                self.save_path, 'best_model_{}'.format(self.n_calls))\n",
    "            self.model.save(model_path)\n",
    "        return True\n"
   ]
  },
  {
   "cell_type": "code",
   "execution_count": null,
   "metadata": {},
   "outputs": [],
   "source": [
    "CHECKPOINT_DIR = 'C:/Users/nikit/Desktop/Personal Projects/RLmodels/codes/Dino/train'\n",
    "LOG_DIR = 'C:/Users/nikit/Desktop/Personal Projects/RLmodels/codes/Dino/logs'\n"
   ]
  },
  {
   "cell_type": "code",
   "execution_count": null,
   "metadata": {},
   "outputs": [],
   "source": [
    "callback = TrainLoggingCallback(check_freq=1000, save_path=CHECKPOINT_DIR)\n"
   ]
  },
  {
   "cell_type": "code",
   "execution_count": null,
   "metadata": {},
   "outputs": [],
   "source": [
    "total_timesteps = 1000000  # Total number of steps for training\n",
    "batch_size = 50000  # Number of steps per training iteration (change per RAM in machine)\n",
    "\n",
    "# Create the DQN model\n",
    "model = DQN('CnnPolicy', env, tensorboard_log=LOG_DIR, verbose=1,\n",
    "            buffer_size=batch_size, learning_starts=1000)\n"
   ]
  },
  {
   "cell_type": "code",
   "execution_count": null,
   "metadata": {},
   "outputs": [],
   "source": [
    "# Use this to load pre-trained models\n",
    "# model.load(\n",
    "#     'C:/Users/nikit/Desktop/Personal Projects/RLmodels/codes/Dino/train/best_model_84000.zip')\n"
   ]
  },
  {
   "cell_type": "code",
   "execution_count": null,
   "metadata": {},
   "outputs": [],
   "source": [
    "# Works better with high memory machine\n",
    "# model.learn(total_timesteps=total_timesteps, callback=callback)\n"
   ]
  },
  {
   "cell_type": "code",
   "execution_count": null,
   "metadata": {},
   "outputs": [],
   "source": [
    "# For low memory users \n",
    "# Perform incremental learning in multiple iterations\n",
    "current_timestep = 0\n",
    "while current_timestep < total_timesteps:\n",
    "    # Calculate the number of steps for this iteration\n",
    "    remaining_timesteps = total_timesteps - current_timestep\n",
    "    num_steps = min(batch_size, remaining_timesteps)\n",
    "\n",
    "    # Train the model for the current iteration\n",
    "    model.learn(total_timesteps=num_steps, callback=callback)\n",
    "\n",
    "    # Update the current timestep\n",
    "    current_timestep += num_steps\n"
   ]
  },
  {
   "cell_type": "markdown",
   "metadata": {},
   "source": [
    "# Testing the model"
   ]
  },
  {
   "cell_type": "code",
   "execution_count": null,
   "metadata": {},
   "outputs": [],
   "source": [
    "for episode in range(5):\n",
    "    obs = env.reset()[0]\n",
    "    over = False\n",
    "    tot_reward = 0\n",
    "\n",
    "    while not over:\n",
    "        action = model.predict(obs)\n",
    "        obs, reward, over, info, _ = env.step(env.action_space.sample())\n",
    "        # time.sleep(0.01)\n",
    "        tot_reward += reward\n",
    "    print(f'Episode : {episode}, Reward : {tot_reward}')\n",
    "    time.sleep(2)\n"
   ]
  }
 ],
 "metadata": {
  "kernelspec": {
   "display_name": "Python 3 (ipykernel)",
   "language": "python",
   "name": "python3"
  },
  "language_info": {
   "codemirror_mode": {
    "name": "ipython",
    "version": 3
   },
   "file_extension": ".py",
   "mimetype": "text/x-python",
   "name": "python",
   "nbconvert_exporter": "python",
   "pygments_lexer": "ipython3",
   "version": "3.10.4"
  }
 },
 "nbformat": 4,
 "nbformat_minor": 2
}
